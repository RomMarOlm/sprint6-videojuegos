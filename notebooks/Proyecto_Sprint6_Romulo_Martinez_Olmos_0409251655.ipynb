{
 "cells": [
  {
   "cell_type": "markdown",
   "metadata": {},
   "source": [
    "## Abrir archivo y estudiar la informacion general"
   ]
  },
  {
   "cell_type": "code",
   "execution_count": null,
   "metadata": {
    "tags": [
     "e5c1f0c2-db9f-43a0-99b9-4875c52427e8"
    ]
   },
   "outputs": [],
   "source": [
    "# Cargamos la librerias para dataframe\n",
    "\n",
    "import pandas as pd\n",
    "import numpy as np\n",
    "import matplotlib.pyplot as plt\n"
   ]
  },
  {
   "cell_type": "code",
   "execution_count": null,
   "metadata": {},
   "outputs": [],
   "source": [
    "# Lectura del archivo\n",
    "\n",
    "df = pd.read_csv('/datasets/games.csv')\n"
   ]
  },
  {
   "cell_type": "code",
   "execution_count": null,
   "metadata": {},
   "outputs": [],
   "source": [
    "# Tamaño deñ dataset\n",
    "\n",
    "print(\"Shape del DataFrame:\", df.shape)\n"
   ]
  },
  {
   "cell_type": "code",
   "execution_count": null,
   "metadata": {},
   "outputs": [],
   "source": [
    "# Revision de los nombres de las columnas\n",
    "\n",
    "print('\\nColumnas del DataFrame:')\n",
    "print(df.columns)"
   ]
  },
  {
   "cell_type": "code",
   "execution_count": null,
   "metadata": {},
   "outputs": [],
   "source": [
    "# Revision de primeras filas del DataFrame\n",
    "\n",
    "print('\\nPrimeras 5 filas del dataframe:')\n",
    "print(df.head(5))\n"
   ]
  },
  {
   "cell_type": "code",
   "execution_count": null,
   "metadata": {},
   "outputs": [],
   "source": [
    "# Informacion general de columnas y tipos de datos\n",
    "\n",
    "print('\\nInformacion del DataFrame:')\n",
    "df.info()\n"
   ]
  },
  {
   "cell_type": "code",
   "execution_count": null,
   "metadata": {},
   "outputs": [],
   "source": [
    "# Conteo de valores ausentes por columnas\n",
    "\n",
    "print(\"\\nValores ausentes por columna:\")\n",
    "print(df.isna().sum())\n"
   ]
  },
  {
   "cell_type": "markdown",
   "metadata": {},
   "source": [
    "## Conclusion paso 1\n",
    "\n",
    "En este primer paso cargamos el dataset 'games.csv' con información de **16,715 filas y 11 columnas** sobre videojuegos: nombre, plataforma, año de lanzamiento, género, ventas por región, puntuaciones de usuarios y críticos, y clasificación ESRB.  \n",
    "\n",
    "Identificamos que varias columnas presentan valores ausentes (`Year_of_Release`, `Critic_Score`, `User_Score`, `Rating`) y que algunos tipos de datos no son los más adecuados (por ejemplo, `Year_of_Release` como *float*, `User_Score` como *object*).  \n",
    "\n",
    "Con esta exploración inicial, ya estamos listos para el **Paso 2: Preparar los datos**, donde vamos a:  \n",
    "- Estandarizar nombres de columnas en minúsculas.  \n",
    "- Corregir los tipos de datos según corresponda.  \n",
    "- Manejar valores ausentes y casos con `'tbd'`.  \n",
    "- Crear una columna nueva con las **ventas totales** por juego.  \n"
   ]
  },
  {
   "cell_type": "markdown",
   "metadata": {},
   "source": [
    "## Preparacion de los datos para analisis posterior"
   ]
  },
  {
   "cell_type": "code",
   "execution_count": null,
   "metadata": {},
   "outputs": [],
   "source": [
    "# Convertir los nombres de las columnas a minusculas\n",
    "\n",
    "df.columns = df.columns.str.lower()\n",
    "\n",
    "# Verificamos que el cambio se haya hecho\n",
    "\n",
    "print(df.columns)\n"
   ]
  },
  {
   "cell_type": "code",
   "execution_count": null,
   "metadata": {},
   "outputs": [],
   "source": [
    "# Revisamos los tipos de datos actuales despues del cambio de nombres\n",
    "\n",
    "print(df.dtypes)\n"
   ]
  },
  {
   "cell_type": "code",
   "execution_count": null,
   "metadata": {},
   "outputs": [],
   "source": [
    "\n",
    "# Serie de trabajo\n",
    "\n",
    "s = df['user_score']\n",
    "\n",
    "# Conteos básicos\n",
    "\n",
    "nan_count  = s.isna().sum()\n",
    "tbd_count  = (s == 'tbd').sum()\n",
    "\n",
    "# Conteo de numéricos (convirtiendo 'tbd' a NaN y forzando errores a NaN)\n",
    "\n",
    "s_num = pd.to_numeric(s.replace('tbd', np.nan), errors='coerce')\n",
    "numeric_count = s_num.notna().sum()\n",
    "\n",
    "# Totales y verificación de informacion\n",
    "\n",
    "total = s.shape[0]\n",
    "other_non_numeric = total - (nan_count + tbd_count + numeric_count)\n",
    "\n",
    "print(\"Total filas en user_score:\", total)\n",
    "print(\"Total filas NaN:\", nan_count)\n",
    "print(\"Total filas 'tbd':\", tbd_count)\n",
    "print(\"Total filas Numéricos:\", numeric_count)\n",
    "print(\"Otros valores NO numéricos distintos de NaN/'tbd':\", other_non_numeric)\n"
   ]
  },
  {
   "cell_type": "markdown",
   "metadata": {},
   "source": [
    "## La suma de estos valores coincide con el total de filas de la columna (Tot = NaN + 'tbd' + Numericos), lo que confirma que no existen otros valores no numéricos distintos de `'tbd'` y `NaN`. Por lo tanto, el procedimiento adecuado es reemplazar `'tbd'` por `NaN` y luego convertir toda la columna a tipo `float64`."
   ]
  },
  {
   "cell_type": "code",
   "execution_count": null,
   "metadata": {},
   "outputs": [],
   "source": [
    "# Reemplazar 'tbd' con NaN\n",
    "\n",
    "df['user_score'] = df['user_score'].replace('tbd', np.nan)\n",
    "\n",
    "# convertir a numerico (float64), ignorando errores\n",
    "\n",
    "df['user_score'] = pd.to_numeric(df['user_score'], errors='coerce')\n",
    "\n",
    "print(df['user_score'].dtypes)\n",
    "\n",
    "\n"
   ]
  },
  {
   "cell_type": "code",
   "execution_count": null,
   "metadata": {},
   "outputs": [],
   "source": [
    "# Convertir a int64 (para permitir NaN como int)\n",
    "\n",
    "df['year_of_release'] = df['year_of_release'].astype('Int64')\n",
    "\n",
    "print(df['year_of_release'].dtypes)"
   ]
  },
  {
   "cell_type": "code",
   "execution_count": null,
   "metadata": {},
   "outputs": [],
   "source": [
    "# Confirmamos tipo de datos en critic_score\n",
    "\n",
    "print(df['critic_score'].dtypes)"
   ]
  },
  {
   "cell_type": "markdown",
   "metadata": {},
   "source": [
    "# Conversion de tipos\n",
    "\n",
    "'User Score': se convirtio a float64 tras reemplazar 'tbd' por NaN.\n",
    "'Year_of_release': convertido a Int64 para manejar enteros y NaN.\n",
    "'Critic_score': ya estaba en float64, no requirio cambios.\n"
   ]
  },
  {
   "cell_type": "code",
   "execution_count": null,
   "metadata": {},
   "outputs": [],
   "source": [
    "# Revision rapida de ausentes en columnas clave\n",
    "\n",
    "cols_check = ['year_of_release', 'critic_score', 'user_score', 'rating']\n",
    "\n",
    "print(df[cols_check].isna().sum())"
   ]
  },
  {
   "cell_type": "code",
   "execution_count": null,
   "metadata": {},
   "outputs": [],
   "source": [
    "# EN algunos datasets 'rating' puede traer 'tbd'; lo convertimos a NaN por consistencia\n",
    "\n",
    "if df['rating'].dtype == 'object':\n",
    "    df['rating'] = df['rating'].replace('tbd', np.nan)"
   ]
  },
  {
   "cell_type": "markdown",
   "metadata": {},
   "source": [
    "## Desicion de proyecto:\n",
    "\n",
    "Para las columnas de year_of_release (Int64), critic_score (float), user_score (float), \n",
    "rating (object) dejamos NaN para evitar inventar datos y porque pandas ignora los NaN de \n",
    "forma segura en las estadisticas, con esto creemos que los datos seran mas exactos en los analisis posteriores, tambien filtraremos por año solo cuando el analisis lo requiera.  "
   ]
  },
  {
   "cell_type": "code",
   "execution_count": null,
   "metadata": {},
   "outputs": [],
   "source": [
    "# Crear columna de ventas totales por juego (suma de regiones)\n",
    "\n",
    "sales_cols = ['na_sales', 'eu_sales', 'jp_sales', 'other_sales']\n",
    "df['total_sales'] = df[sales_cols].sum(axis=1)\n",
    "\n",
    "# Vista rapida para validar\n",
    "\n",
    "print(df[['name', 'platform', 'year_of_release', 'total_sales']].head(5))\n",
    "\n",
    "# Comprobacion\n",
    "\n",
    "print(\"\\nVerificar NaN en ventas:\")\n",
    "print(df[sales_cols + ['total_sales']].isna().sum())"
   ]
  },
  {
   "cell_type": "markdown",
   "metadata": {},
   "source": [
    "## Coclusion Valores Ausentes y totales\n",
    "\n",
    "Mantenemos NaN en year_of_release, critic_score, user_score, rating\n",
    "Normalizamos 'tbd' como NaN (Tambien en rating si aparecia)\n",
    "Creamos total_sales como suma de ventas por region\n"
   ]
  },
  {
   "cell_type": "markdown",
   "metadata": {},
   "source": [
    "## Analisis de datos"
   ]
  },
  {
   "cell_type": "code",
   "execution_count": null,
   "metadata": {},
   "outputs": [],
   "source": [
    "# Conteo de juegos lanzados por año \n",
    "\n",
    "releases_per_year = (df.loc[df['year_of_release'].notna(), 'year_of_release'].value_counts().sort_index())\n",
    "\n",
    "print(releases_per_year)"
   ]
  },
  {
   "cell_type": "code",
   "execution_count": null,
   "metadata": {},
   "outputs": [],
   "source": [
    "# Grafica de lanzamientos por año\n",
    "\n",
    "releases_per_year.plot(kind='line', figsize=(10,4))\n",
    "plt.title('Juegos lanzados por año')\n",
    "plt.xlabel('Año')\n",
    "plt.ylabel('Cantidad de juegos')\n",
    "plt.show()"
   ]
  },
  {
   "cell_type": "code",
   "execution_count": null,
   "metadata": {},
   "outputs": [],
   "source": [
    "# Sumamos ventas totales por plataforma (toda la serie histórica)\n",
    "\n",
    "platform_totals = (\n",
    "    df.groupby('platform', dropna=False)['total_sales']\n",
    "      .sum()\n",
    "      .sort_values(ascending=False)\n",
    ")\n",
    "\n",
    "print(platform_totals.head(10))\n",
    "\n",
    "\n"
   ]
  },
  {
   "cell_type": "code",
   "execution_count": null,
   "metadata": {},
   "outputs": [],
   "source": [
    "# Elegimos los 5 plataformas con mas venta acumulada\n",
    "\n",
    "top_platforms = platform_totals.head(5).index.tolist()\n",
    "\n",
    "print('Top plataformas por ventas acumuladas:', top_platforms)"
   ]
  },
  {
   "cell_type": "code",
   "execution_count": null,
   "metadata": {},
   "outputs": [],
   "source": [
    "# Filtrado por año\n",
    "\n",
    "df_year = df[df['year_of_release'].notna()].copy()\n",
    "\n",
    "# Suma de ventas por plataforma y año\n",
    "\n",
    "sales_year_platform = (\n",
    "    df_year.groupby(['platform', 'year_of_release'])['total_sales']\n",
    "    .sum().reset_index().sort_values(['platform', 'year_of_release'])\n",
    ")\n",
    "\n",
    "print(sales_year_platform.head(10))"
   ]
  },
  {
   "cell_type": "code",
   "execution_count": null,
   "metadata": {},
   "outputs": [],
   "source": [
    "# Graficamos informacion para mejor visualizacion\n",
    "\n",
    "plt.figure(figsize=(10,5))\n",
    "\n",
    "for plat in top_platforms:\n",
    "    sub = sales_year_platform[sales_year_platform['platform'] == plat]\n",
    "    plt.plot(sub['year_of_release'], sub['total_sales'], label=plat)\n",
    "\n",
    "    plt.title('Ventas por año - plataformas TOP')\n",
    "    plt.xlabel('Año')\n",
    "    plt.ylabel('Ventas totales (millones USD)')\n",
    "    plt.legend()\n",
    "    plt.show()\n",
    "    "
   ]
  },
  {
   "cell_type": "code",
   "execution_count": null,
   "metadata": {},
   "outputs": [],
   "source": [
    "# Tomamos años de primera y ultima venta > 0\n",
    "\n",
    "life = (df_year[df_year['total_sales'] > 0]\n",
    "       .groupby('platform')['year_of_release']\n",
    "       .agg(first_year='min', last_year='max', count='count')\n",
    "       .reset_index())\n",
    "\n",
    "life['active_2016'] = (life['last_year'] == 2016)\n",
    "retiradas = life[~life['active_2016']].sort_values('last_year')\n",
    "\n",
    "print('Plataformas retiradas en 2016:')\n",
    "print(retiradas.head(25))\n",
    "\n",
    "print('\\nResumen vida por plataforma:')\n",
    "print(life.sort_values('first_year').head(31))\n"
   ]
  },
  {
   "cell_type": "code",
   "execution_count": null,
   "metadata": {},
   "outputs": [],
   "source": [
    "# Vida util aproximada\n",
    "\n",
    "life['lifespan_years'] = life['last_year'] - life['first_year']\n",
    "\n",
    "print(\"Vida útil (años) - estadísticos simples\")\n",
    "print(life['lifespan_years'].describe()[['count', 'min', '25%', '50%', 'mean', '75%', 'max']])\n"
   ]
  },
  {
   "cell_type": "code",
   "execution_count": null,
   "metadata": {},
   "outputs": [],
   "source": [
    "# Conteo oir año\n",
    "\n",
    "print('Lanzamientos por año (mas recientes)')\n",
    "print(releases_per_year.tail(10))"
   ]
  },
  {
   "cell_type": "code",
   "execution_count": null,
   "metadata": {},
   "outputs": [],
   "source": [
    "# Confirmar tipos y conteos por año\n",
    "\n",
    "print(\"dtype year_of_release:\", df['year_of_release'].dtype)\n",
    "\n",
    "counts = (\n",
    "    df.loc[df['year_of_release'].notna(), 'year_of_release']\n",
    "      .value_counts()\n",
    "      .sort_index()\n",
    ")\n",
    "print(\"\\nConteo 2010–2016 en df base:\")\n",
    "for y in range(2010, 2017):\n",
    "    print(y, counts.get(y, 0))\n",
    "\n",
    "# df_actual desde df base 2013-2016\n",
    "\n",
    "min_year = 2013  \n",
    "mask = df['year_of_release'].notna() & (df['year_of_release'] >= min_year)\n",
    "df_actual = df.loc[mask].copy()\n",
    "\n",
    "print(\"\\nRango en df_actual:\",\n",
    "      int(df_actual['year_of_release'].min()),\n",
    "      \"-\",\n",
    "      int(df_actual['year_of_release'].max()))\n",
    "print(\"Tamaño:\", df_actual.shape)\n",
    "\n",
    "print(\"\\nConteos en df_actual por año:\")\n",
    "print(df_actual['year_of_release'].value_counts().sort_index())\n"
   ]
  },
  {
   "cell_type": "code",
   "execution_count": null,
   "metadata": {},
   "outputs": [],
   "source": [
    "# Top plataformas del periodo elegido\n",
    "\n",
    "platform_totals_actual = (df_actual.groupby('platform')['total_sales'].sum().sort_values(ascending=False))\n",
    "\n",
    "print('Top 10 plataformas (2013-2016):')\n",
    "print(platform_totals_actual.head(10))\n"
   ]
  },
  {
   "cell_type": "code",
   "execution_count": null,
   "metadata": {},
   "outputs": [],
   "source": [
    "# Guardado de listas de plataformas top\n",
    "\n",
    "top_platforms_actual =platform_totals_actual.head(5).index.tolist()\n",
    "\n",
    "print('Plataformas Top recientes:', top_platforms_actual)"
   ]
  },
  {
   "cell_type": "code",
   "execution_count": null,
   "metadata": {},
   "outputs": [],
   "source": [
    "# Ventas por año y plataforma para las Top en df_actual\n",
    "\n",
    "sales_year_top = (\n",
    "    df_actual[df_actual['platform'].isin(top_platforms_actual)]\n",
    "    .groupby(['platform', 'year_of_release'])['total_sales']\n",
    "    .sum().reset_index().sort_values(['platform', 'year_of_release'])\n",
    ")\n",
    "\n",
    "print(sales_year_top.head(20))"
   ]
  },
  {
   "cell_type": "code",
   "execution_count": null,
   "metadata": {},
   "outputs": [],
   "source": [
    "# grafica de tendencias por año\n",
    "\n",
    "plt.figure(figsize=(10,5))\n",
    "for plat in top_platforms_actual:\n",
    "    sub = sales_year_top[sales_year_top['platform'] == plat]\n",
    "    plt.plot(sub['year_of_release'], sub['total_sales'], label=plat)\n",
    "plt.title('Ventas por año — plataformas TOP (ventana reciente)')\n",
    "plt.xlabel('Año')\n",
    "plt.ylabel('Ventas totales (millones USD)')\n",
    "plt.legend()\n",
    "plt.show()"
   ]
  },
  {
   "cell_type": "code",
   "execution_count": null,
   "metadata": {},
   "outputs": [],
   "source": [
    "# Pivote para comparar 2016 vs 2015 \n",
    "\n",
    "pivot = sales_year_top.pivot(index='platform', columns='year_of_release', values='total_sales').fillna(0)\n",
    "for y in [2015, 2016]:\n",
    "    if y not in pivot.columns:\n",
    "        pivot[y] = 0\n",
    "pivot['delta_2016_2015'] = pivot[2016] - pivot[2015]\n",
    "\n",
    "print(\"Crecen más:\")\n",
    "print(pivot[['delta_2016_2015']].sort_values('delta_2016_2015', ascending=False).head(10))\n",
    "print(\"\\nCaen más:\")\n",
    "print(pivot[['delta_2016_2015']].sort_values('delta_2016_2015', ascending=True).head(10))\n"
   ]
  },
  {
   "cell_type": "code",
   "execution_count": null,
   "metadata": {},
   "outputs": [],
   "source": [
    "# Boxplot de ventas globales por plataforma\n",
    "\n",
    "subset = df_actual[df_actual['platform'].isin(top_platforms_actual)]\n",
    "data = [subset[subset['platform'] == p]['total_sales'] for p in top_platforms_actual]\n",
    "\n",
    "plt.figure(figsize=(10,5))\n",
    "plt.boxplot(data, labels=top_platforms_actual, showfliers=False)\n",
    "plt.title('Distribución de ventas globales por plataforma (ventana reciente)')\n",
    "plt.ylabel('Ventas (millones USD)')\n",
    "plt.show()\n"
   ]
  },
  {
   "cell_type": "code",
   "execution_count": null,
   "metadata": {},
   "outputs": [],
   "source": [
    "# Ventas promedio por plataforma\n",
    "\n",
    "print(subset.groupby('platform')['total_sales'].mean().sort_values(ascending=False))"
   ]
  },
  {
   "cell_type": "code",
   "execution_count": null,
   "metadata": {},
   "outputs": [],
   "source": [
    "# Seleccion de la plataforma para el analisis de reseñas\n",
    "\n",
    "print(\"Plataformas TOP recientes:\", top_platforms_actual)\n",
    "plat_sel = top_platforms_actual[0]   \n",
    "print(\"Plataforma seleccionada:\", plat_sel)\n"
   ]
  },
  {
   "cell_type": "code",
   "execution_count": null,
   "metadata": {},
   "outputs": [],
   "source": [
    "# Eleccion de TOP con mas reseñas\n",
    "\n",
    "plat_sel = (\n",
    "    df_actual[df_actual['platform'].isin(top_platforms_actual)]\n",
    "      .groupby('platform')['name']\n",
    "      .count()\n",
    "      .sort_values(ascending=False)\n",
    "      .index[0]\n",
    ")\n",
    "print(\"Plataforma seleccionada por cantidad de juegos:\", plat_sel)"
   ]
  },
  {
   "cell_type": "code",
   "execution_count": null,
   "metadata": {},
   "outputs": [],
   "source": [
    "# Elegimos la plataforma \n",
    "\n",
    "print(\"Plataformas TOP recientes:\", top_platforms_actual)\n",
    "plat_sel = top_platforms_actual[0]\n",
    "print(\"Plataforma seleccionada:\", plat_sel)\n",
    "\n",
    "# Subconjunto con columnas necesarias\n",
    "\n",
    "cols_needed = ['name', 'platform', 'total_sales', 'user_score', 'critic_score']\n",
    "sub = df_actual[df_actual['platform'] == plat_sel][cols_needed].copy()\n",
    "\n",
    "# Quitamos filas sin ventas o sin reseñas\n",
    "\n",
    "sub = sub.dropna(subset=['total_sales', 'user_score', 'critic_score'])\n",
    "\n",
    "print(\"Filas para correlación en\", plat_sel, \":\", sub.shape[0])\n",
    "print(sub.head(5))\n"
   ]
  },
  {
   "cell_type": "code",
   "execution_count": null,
   "metadata": {},
   "outputs": [],
   "source": [
    "# Grafico de dispersion user_score vs total_sales\n",
    "\n",
    "plt.figure(figsize=(6,4))\n",
    "plt.scatter(sub['user_score'], sub['total_sales'], alpha=0.6)\n",
    "plt.title(f'User score vs ventas - {plat_sel}')\n",
    "plt.xlabel('User score (0-10)')\n",
    "plt.ylabel('Ventas totales (millones USD)')\n",
    "plt.show()"
   ]
  },
  {
   "cell_type": "code",
   "execution_count": null,
   "metadata": {},
   "outputs": [],
   "source": [
    "# Grafico de dispersion critic_score vs total_sales\n",
    "\n",
    "plt.figure(figsize=(6,4))\n",
    "plt.scatter(sub['critic_score'], sub['total_sales'], alpha=0.6)\n",
    "plt.title(f'Critic score vs ventas — {plat_sel}')\n",
    "plt.xlabel('Critic score (0–100)')\n",
    "plt.ylabel('Ventas totales (millones USD)')\n",
    "plt.show()\n"
   ]
  },
  {
   "cell_type": "code",
   "execution_count": null,
   "metadata": {},
   "outputs": [],
   "source": [
    "# Correlaciones (pearson) con ventas\n",
    "\n",
    "corr_user = sub[['user_score', 'total_sales']].corr().loc['user_score', 'total_sales']\n",
    "corr_crit = sub[['critic_score', 'total_sales']].corr().loc['critic_score','total_sales']\n",
    "\n",
    "print(f\"Correlación user_score–ventas ({plat_sel}): {corr_user:.3f}\")\n",
    "print(f\"Correlación critic_score–ventas ({plat_sel}): {corr_crit:.3f}\")\n"
   ]
  },
  {
   "cell_type": "code",
   "execution_count": null,
   "metadata": {},
   "outputs": [],
   "source": [
    "# Comparar los mismos juegos en otras plataformas\n",
    "\n",
    "name_sel = sub['name'].unique()\n",
    "\n",
    "same_games = (\n",
    "    df_actual[df_actual['name'].isin(name_sel)]\n",
    "    .groupby(['name', 'platform'])['total_sales']\n",
    "    .sum()\n",
    "    .reset_index()\n",
    "    .sort_values(['name', 'total_sales'], ascending=[True, False])\n",
    ")\n",
    "\n",
    "print(same_games.head(15))"
   ]
  },
  {
   "cell_type": "code",
   "execution_count": null,
   "metadata": {},
   "outputs": [],
   "source": [
    "# Casos en donde otra plataforma supera a la seleccionada\n",
    "\n",
    "ranked = same_games.assign(\n",
    "    rank = same_games.groupby('name')['total_sales'].rank(method='first', ascending=False)\n",
    ")\n",
    "\n",
    "otros_ganan = ranked[(ranked['rank'] == 1) & (ranked['platform'] != plat_sel)]\n",
    "\n",
    "print(\"Juegos donde otra plataforma supera a\", plat_sel, \"(muestra):\")\n",
    "print(otros_ganan.head(10))\n"
   ]
  },
  {
   "cell_type": "markdown",
   "metadata": {},
   "source": [
    "## Conclusiones \n",
    "\n",
    "Periodo analizado: 2013–2016 (volumen estable; 2016 cae un poco).\n",
    "\n",
    "Top plataformas por ventas (2013–2016): PS4 (314.14), PS3 (181.43), XOne (159.32), 3DS (143.25), X360 (136.80).  \n",
    "Tendencia 2016 vs 2015: todas caen (PS4 −49.65, XOne −33.99, etc.).\n",
    "\n",
    "Distribución de ventas por juego: media > mediana en todas > pocos “hits” tiran del promedio.\n",
    "\n",
    "Reseñas vs ventas (PS4): \n",
    "user_score: sin relación (−0.034).  \n",
    "critic_score: relación positiva moderada (+0.406).\n",
    "\n",
    "Mismo juego en otras plataformas:~16.1% vende más fuera de PS4 > la plataforma importa por título.\n",
    "\n",
    "Recomendación 2017: \n",
    "Priorizar PS4/XOne por escala reciente (solo es conveniente revisar la caida del 2016).  \n",
    "Enfocar marketing en títulos con buenas críticas(señal de ventas).  \n",
    "Evaluar multi-plataforma según cada juego."
   ]
  },
  {
   "cell_type": "markdown",
   "metadata": {},
   "source": [
    "# Perfil por region "
   ]
  },
  {
   "cell_type": "code",
   "execution_count": null,
   "metadata": {},
   "outputs": [],
   "source": [
    "# Top 5 plataformas por region (NA)\n",
    "\n",
    "region_df = df_actual.copy()\n",
    "region = 'na_sales'\n",
    "\n",
    "na_plat = (\n",
    "    region_df.groupby('platform')[region]\n",
    "    .sum()\n",
    "    .sort_values(ascending=False)\n",
    "    .head(5)\n",
    "    .reset_index()\n",
    ")\n",
    "\n",
    "total_na = region_df[region].sum()\n",
    "na_plat['share_pct'] = (na_plat[region] / total_na) * 100\n",
    "\n",
    "print('Top 5 plataformas -. NA')\n",
    "print(na_plat)\n"
   ]
  },
  {
   "cell_type": "code",
   "execution_count": null,
   "metadata": {},
   "outputs": [],
   "source": [
    "# Top 5 generos por region (NA)\n",
    "\n",
    "\n",
    "# ESRB vs ventas (NA) + gráfica de barras\n",
    "region_df = df_actual.copy()\n",
    "region = 'na_sales'\n",
    "\n",
    "na_rating = (\n",
    "    region_df.dropna(subset=['rating'])\n",
    "             .groupby('rating')[region]\n",
    "             .sum()\n",
    "             .sort_values(ascending=False)\n",
    ")\n",
    "\n",
    "# Tabla\n",
    "print(\"Ventas por rating ESRB — NA\")\n",
    "print(na_rating.reset_index())\n"
   ]
  },
  {
   "cell_type": "code",
   "execution_count": null,
   "metadata": {},
   "outputs": [],
   "source": [
    "# Top 5 plataformas por region (EU)\n",
    "\n",
    "region = 'eu_sales'\n",
    "\n",
    "eu_plat = (\n",
    "    region_df.groupby('platform')[region]\n",
    "             .sum()\n",
    "             .sort_values(ascending=False)\n",
    "             .head(5)\n",
    "             .reset_index()\n",
    ")\n",
    "total_eu = region_df[region].sum()\n",
    "eu_plat['share_pct'] = (eu_plat[region] / total_eu) * 100\n",
    "\n",
    "print(\"Top 5 plataformas — EU\")\n",
    "print(eu_plat)\n"
   ]
  },
  {
   "cell_type": "code",
   "execution_count": null,
   "metadata": {},
   "outputs": [],
   "source": [
    "# Top 5 generos por region (EU)\n",
    "\n",
    "eu_genre = (\n",
    "    region_df.groupby('genre')[region]\n",
    "             .sum()\n",
    "             .sort_values(ascending=False)\n",
    "             .head(5)\n",
    "             .reset_index()\n",
    ")\n",
    "eu_genre['share_pct'] = (eu_genre[region] / total_eu) * 100\n",
    "\n",
    "print(\"Top 5 géneros — EU\")\n",
    "print(eu_genre)\n"
   ]
  },
  {
   "cell_type": "code",
   "execution_count": null,
   "metadata": {},
   "outputs": [],
   "source": [
    "# ESBR Vs ventas (EU)\n",
    "\n",
    "eu_rating = (\n",
    "    region_df.dropna(subset=['rating'])\n",
    "             .groupby('rating')[region]\n",
    "             .sum()\n",
    "             .sort_values(ascending=False)\n",
    "             .reset_index()\n",
    ")\n",
    "eu_rating['share_pct'] = (eu_rating[region] / total_eu) * 100\n",
    "\n",
    "print(\"Ventas por rating ESRB — EU\")\n",
    "print(eu_rating.head(10))\n"
   ]
  },
  {
   "cell_type": "code",
   "execution_count": null,
   "metadata": {},
   "outputs": [],
   "source": [
    "# Top 5 Plataformas por region (JP)\n",
    "\n",
    "region = 'jp_sales'\n",
    "\n",
    "jp_plat = (\n",
    "    region_df.groupby('platform')[region]\n",
    "             .sum()\n",
    "             .sort_values(ascending=False)\n",
    "             .head(5)\n",
    "             .reset_index()\n",
    ")\n",
    "total_jp = region_df[region].sum()\n",
    "jp_plat['share_pct'] = (jp_plat[region] / total_jp) * 100\n",
    "\n",
    "print(\"Top 5 plataformas — JP\")\n",
    "print(jp_plat)\n"
   ]
  },
  {
   "cell_type": "code",
   "execution_count": null,
   "metadata": {},
   "outputs": [],
   "source": [
    "# Top 5 generos por region (JP)\n",
    "\n",
    "jp_genre = (\n",
    "    region_df.groupby('genre')[region]\n",
    "             .sum()\n",
    "             .sort_values(ascending=False)\n",
    "             .head(5)\n",
    "             .reset_index()\n",
    ")\n",
    "jp_genre['share_pct'] = (jp_genre[region] / total_jp) * 100\n",
    "\n",
    "print(\"Top 5 géneros — JP\")\n",
    "print(jp_genre)\n"
   ]
  },
  {
   "cell_type": "code",
   "execution_count": null,
   "metadata": {},
   "outputs": [],
   "source": [
    "# ESBR Vs Ventas (JP)\n",
    "\n",
    "jp_rating = (\n",
    "    region_df.dropna(subset=['rating'])\n",
    "             .groupby('rating')[region]\n",
    "             .sum()\n",
    "             .sort_values(ascending=False)\n",
    "             .reset_index()\n",
    ")\n",
    "jp_rating['share_pct'] = (jp_rating[region] / total_jp) * 100\n",
    "\n",
    "print(\"Ventas por rating ESRB — JP\")\n",
    "print(jp_rating.head(10))\n"
   ]
  },
  {
   "cell_type": "code",
   "execution_count": null,
   "metadata": {},
   "outputs": [],
   "source": [
    "# NA top 5 generos \n",
    "\n",
    "region_df = df_actual.copy()\n",
    "region = 'na_sales'\n",
    "\n",
    "na_genre = (\n",
    "    region_df.groupby('genre')[region]\n",
    "             .sum()\n",
    "             .sort_values(ascending=False)\n",
    "             .head(5)\n",
    "             .reset_index()\n",
    ")\n",
    "total_na = region_df[region].sum()\n",
    "na_genre['share_pct'] = (na_genre[region] / total_na) * 100\n",
    "print(\"Top 5 géneros — NA\")\n",
    "print(na_genre)\n"
   ]
  },
  {
   "cell_type": "code",
   "execution_count": null,
   "metadata": {},
   "outputs": [],
   "source": [
    "# NA - esbr con % y barra\n",
    "\n",
    "na_rating = (\n",
    "    region_df.dropna(subset=['rating'])\n",
    "             .groupby('rating')['na_sales']\n",
    "             .sum()\n",
    "             .sort_values(ascending=False)\n",
    ")\n",
    "shares = na_rating / na_rating.sum() * 100\n",
    "print(\"Ventas por rating ESRB — NA (con %)\")\n",
    "print((na_rating.to_frame()\n",
    "       .assign(share_pct=shares)).reset_index())\n",
    "\n",
    "# Barra\n",
    "plt.figure(figsize=(8,4))\n",
    "ax = na_rating.plot(kind='bar')\n",
    "plt.title('Ventas por rating ESRB — NA')\n",
    "plt.xlabel('Rating ESRB')\n",
    "plt.ylabel('Ventas (millones USD)')\n",
    "plt.xticks(rotation=45, ha='right')\n",
    "plt.tight_layout()\n",
    "plt.show()"
   ]
  },
  {
   "cell_type": "markdown",
   "metadata": {},
   "source": [
    "## Conclusiones Paso 4 — Perfil por región (breve)\n",
    "\n",
    "NA\n",
    "las Plataformas TOP: PS4 24.8%, XOne 21.3%, X360 18.7%, PS3 14.5%, 3DS 8.7% → Xbox pesa más que en EU.\n",
    "Géneros TOP: Action 28.8%, Shooter 25.1%, Sports 14.9%, RPG 10.6%, Misc 6.3%.\n",
    "ESRB: M 47.4%, E 22.7%, E10+ 15.6%, T 14.3% → fuerte sesgo a títulos maduros.\n",
    "\n",
    "EU\n",
    "las Plataformas TOP: PS4 36.0%, PS3 17.3%, XOne 13.2%, X360 10.8%, 3DS 7.9% → PlayStation domina más que en NA.\n",
    "Géneros TOP: Action 30.1%, Shooter 22.4%, Sports 15.4%, RPG 9.4%, Racing 5.1%.\n",
    "ESRB: M 37.0%, E 21.3%, E10+ 10.9%, T 10.7%.\n",
    "\n",
    "JP\n",
    "las Plataformas TOP: 3DS 48.2%, PS3 16.6%, PSV 13.2%, PS4 11.3%, WiiU 7.7% → portátiles/Nintendo muy fuertes; Xbox casi ausente.\n",
    "Géneros TOP: RPG 36.3%, Action 28.8%, (después) Misc/Fighting/Shooter muy por atrás.\n",
    "ESRB: patrón distinto a NA/EU; mayor peso de T/E que de M.\n",
    "\n",
    "Resumen:\n",
    "NA/EU prefieren M y consolas de salón; EU es más “PlayStation”, NA más balanceado con Xbox.\n",
    "JP es “otra liga”: 3DS + RPG dominan; clasificación menos cargada a M."
   ]
  },
  {
   "cell_type": "markdown",
   "metadata": {},
   "source": [
    "## Pruebas de Hipotesis"
   ]
  },
  {
   "cell_type": "code",
   "execution_count": null,
   "metadata": {},
   "outputs": [],
   "source": [
    "# Import para este paso\n",
    "\n",
    "from scipy import stats\n",
    "\n",
    "alpha = 0.05"
   ]
  },
  {
   "cell_type": "code",
   "execution_count": null,
   "metadata": {},
   "outputs": [],
   "source": [
    "# H01: Medias de user_score en XOne y PC son iguales\n",
    "\n",
    "\n",
    "# H0: mu_XOne = mu_PC\n",
    "# H1: mu_XOne != mu_PC \n",
    "\n",
    "# Filtrar muestra \n",
    "\n",
    "gx = df_actual[(df_actual['platform'] == 'XOne') & (df_actual['user_score'].notna())]['user_score']\n",
    "gp = df_actual[(df_actual['platform'] == 'PC')   & (df_actual['user_score'].notna())]['user_score']\n",
    "\n",
    "print(f\"Tamaños: XOne={gx.shape[0]}, PC={gp.shape[0]}\")\n",
    "print(f\"Medias:  XOne={gx.mean():.3f}, PC={gp.mean():.3f}\")\n",
    "\n",
    "if gx.shape[0] >= 3 and gp.shape[0] >= 3:\n",
    "    t_stat, p_val = stats.ttest_ind(gx, gp, equal_var=False)   # Welch\n",
    "    print(f\"t={t_stat:.3f}, p-value={p_val:.4f}, alpha={alpha}\")\n",
    "    if p_val < alpha:\n",
    "        print(\"Conclusión: Rechazamos H0 > las medias son diferentes.\")\n",
    "    else:\n",
    "        print(\"Conclusión: No rechazamos H0 > no hay evidencia de diferencia en medias.\")\n",
    "else:\n",
    "    print(\"Muestra insuficiente para ejecutar la prueba con confianza.\")\n",
    "\n"
   ]
  },
  {
   "cell_type": "code",
   "execution_count": null,
   "metadata": {},
   "outputs": [],
   "source": [
    "# H01: Medias de user_score en Action y Sport son iguales\n",
    "\n",
    "\n",
    "# H0: mu_Action = mu_Sport\n",
    "# H1: mu_Action != mu_Sport \n",
    "\n",
    "# Filtrar muestra \n",
    "\n",
    "ga = df_actual[(df_actual['genre'] == 'Action')  & (df_actual['user_score'].notna())]['user_score']\n",
    "gs = df_actual[(df_actual['genre'] == 'Sports')  & (df_actual['user_score'].notna())]['user_score']\n",
    "\n",
    "print(f\"Tamaños: Action={ga.shape[0]}, Sports={gs.shape[0]}\")\n",
    "print(f\"Medias:  Action={ga.mean():.3f}, Sports={gs.mean():.3f}\")\n",
    "\n",
    "if ga.shape[0] >= 3 and gs.shape[0] >= 3:\n",
    "    t_stat, p_val = stats.ttest_ind(ga, gs, equal_var=False)   # Welch\n",
    "    print(f\"t={t_stat:.3f}, p-value={p_val:.4f}, alpha={alpha}\")\n",
    "    if p_val < alpha:\n",
    "        print(\"Conclusión: Rechazamos H0 → las medias son diferentes.\")\n",
    "    else:\n",
    "        print(\"Conclusión: No rechazamos H0 → no hay evidencia de diferencia en medias.\")\n",
    "else:\n",
    "    print(\"Muestra insuficiente para ejecutar la prueba con confianza.\")\n",
    "    "
   ]
  },
  {
   "cell_type": "markdown",
   "metadata": {},
   "source": [
    "## Paso 5 — Pruebas de hipótesis \n",
    "\n",
    "H01 (XOne vs PC) — user_score\n",
    "Hipótesis:\n",
    "H0: mu_XOne = mu_PC\n",
    "H1: mu_XOne != mu_PC  (bicaudal, alpha=0.05)\n",
    "Resultados:\n",
    "Tamaños: XOne=182, PC=155\n",
    "Medias:  XOne=6.521, PC=6.270\n",
    "Welch t-test: t=1.452, p=0.1476\n",
    "Conclusión:\n",
    "No rechazamos H0 > no hay evidencia de diferencia en la media de user_score entre XOne y PC.\n",
    "\n",
    "Implicación práctica\n",
    "La “calidad percibida por usuarios” es similar entre XOne y PC en 2013–2016.\n",
    "Para 2017, no se puede esperar ventajas de satisfacción solo por la plataforma.\n",
    "Dse determina que el PS4 domina EU; el Xbox domina más en NA), no por diferencia de user_score entre XOne y PC.\n",
    "\n",
    "H02 (Action vs Sports) — user_score\n",
    "Hipótesis:\n",
    "H0: mu_Action = mu_Sports\n",
    "H1: mu_Action != mu_Sports  (bicaudal, alpha=0.05)\n",
    "Resultados:\n",
    "Tamaños: Action=389, Sports=160\n",
    "Medias:  Action=6.838, Sports=5.238\n",
    "Welch t-test: t=10.233, p<0.0001\n",
    "Conclusión:\n",
    "Rechazamos H0 > sí hay diferencia; Action > Sports en user_score.\n",
    "\n",
    "Implicación práctica\n",
    "Los juegos de Action tienen, en promedio, mejor valoración de usuario que Sports.\n",
    "Para 2017, priorizar títulos de Action, esto si se busca satisfacción del usuario y una mejor reseña.\n",
    "El user_score alto no garantiza ventas; las críticas de expertos sí mostraron correlación positiva moderada con ventas (critics <> ventas ~ +0.406 en PS4)."
   ]
  },
  {
   "cell_type": "markdown",
   "metadata": {},
   "source": [
    "## Conclusiones finales\n",
    "\n",
    "Qué se hizo  \n",
    "Cargamos `games.csv`, revisamos columnas y ausentes.  \n",
    "Preparamos datos: columnas en minúsculas, `user_score`→float (tbd→NaN), `year_of_release`→Int64, creamos `total_sales`.  \n",
    "Analizamos lanzamientos por año, ventas por plataforma, elegimos ventana **2013–2016**.  \n",
    "Exploramos tendencias (curvas), distribución (boxplots), reseñas↔ventas, comparación entre plataformas y **perfil por región**.  \n",
    "Probamos hipótesis (Welch t-test).\n",
    "\n",
    "Hallazgos clave:\n",
    "Plataformas (2013–2016): PS4 lidera en ventas; luego PS3, XOne, 3DS, X360. 2016 cae ligeramente.  \n",
    "Distribución: ventas muy sesgadas (pocos “hits” empujan el promedio).  \n",
    "Reseñas: en PS4, `critic_score` se asocia moderadamente con ventas (~+0.41); `user_score` ≈ sin relación.  \n",
    "Regiones: NA/EU prefieren títulos M; EU más PlayStation, NA más balanceado con Xbox. JP: 3DS y RPG dominan.  \n",
    "Multi-plataforma: ~16% de juegos venden más fuera de PS4 → la plataforma importa por título.\n",
    "\n",
    "H01: XOne vs PC (user_score)\n",
    "Resultado: p=0.1476 (>0.05) > no hay evidencia estadística de que la media de `user_score` sea distinta.\n",
    "Traducción simple: la satisfacción promedio de usuarios es similar entre XOne y PC (2013–2016).\n",
    "Implicación: no elijas plataforma por “gustó más a usuarios” entre estas dos. Decide por:\n",
    "tamaño de mercado y presencia regional,\n",
    "costos de port (tiempo/equipo),\n",
    "catálogo/competencia y acuerdos comerciales.\n",
    "\n",
    "H02: Action vs Sports (user_score)\n",
    "Resultado: p<0.0001 > sí hay diferencia; medias: Action 6.84 > Sports 5.24.\n",
    "Traducción simple: los juegos de Acción reciben mejores valoraciones de usuario que los de Deportes.\n",
    "Implicación: si buscas satisfacción/recepción orgánica, Action es mejor apuesta que Sports.\n",
    "Ojo: en PS4 vimos que critic_score (no user_score) tiene relación moderada con ventas. \n",
    "Usa user_score como señal de percepción, y critic_score como señal comercial.\n",
    "\n",
    "Recomendaciones 2017\n",
    "\n",
    "Plataformas por región\n",
    "NA: PS4 + XOne (Xbox pesa más que en EU).\n",
    "EU: PS4 dominante; XOne como complemento.\n",
    "JP: 3DS y PS4 (Nintendo portátil muy fuerte).\n",
    "Evita meter presupuesto en plataformas “legado” (PS3/X360) salvo relanzos baratos.\n",
    "\n",
    "Géneros\n",
    "Global: priorizacion de Action y Shooter (mejor tracción y ventas históricas).\n",
    "JP: subir prioridad RPG (líder allí).\n",
    "Cómo “evaluar” cada lanzamiento;\n",
    "Usa un checklist para decidir budget y push:\n",
    "critic_score esperado/previas (>75 como umbral de “push”).\n",
    "Preórdenes / wishlists / registros de interés.\n",
    "Encaje región–plataforma (RPG en JP, Shooter/Action en NA/EU).\n",
    "Competencia y ventana (¿choca con un AAA?).\n",
    "Costo de port y tiempo de salida multi–plataforma.\n",
    "Señales de comunidad (seguimiento, trailers, menciones).\n",
    "Decisión:\n",
    "Si cumple 4–5 señales > Campaña fuerte (PR + ads + bundles).\n",
    "Si cumple 2–3 >, Campaña media (segmentada por región).\n",
    "Si cumple 2 o <, Lanzamiento discreto/long tail (tienda/promos puntuales).\n",
    "Estrategia de portafolio:\n",
    "No poner todo en un solo título. Distribuir riesgo:\n",
    "“Apuestas foco” (2–3 títulos): alto presupuesto, previsión de ventas alta.\n",
    "Mid-core (3–5): presupuesto medio, oportunidades regionales.\n",
    "Long tail (varios): bajo costo, ingresos sostenidos (ofertas, bundles, temporadas).\n",
    "Reglas prácticas:\n",
    "Reasignar budget tras la primera semana: si un foco despega, añade inversión; si no, reduce y mueve a otro. Se recomienda mantener promos estacionales (Black Friday, Navidad, Golden Week JP).\n",
    "Operativa de marketing\n",
    "\n",
    "  "
   ]
  }
 ],
 "metadata": {
  "kernelspec": {
   "display_name": "Python 3 (ipykernel)",
   "language": "python",
   "name": "python3"
  },
  "language_info": {
   "codemirror_mode": {
    "name": "ipython",
    "version": 3
   },
   "file_extension": ".py",
   "mimetype": "text/x-python",
   "name": "python",
   "nbconvert_exporter": "python",
   "pygments_lexer": "ipython3",
   "version": "3.9.23"
  }
 },
 "nbformat": 4,
 "nbformat_minor": 4
}
